{
 "cells": [
  {
   "cell_type": "code",
   "execution_count": null,
   "id": "9f427882",
   "metadata": {},
   "outputs": [],
   "source": [
    "Question 1"
   ]
  },
  {
   "cell_type": "code",
   "execution_count": 56,
   "id": "18dfd732",
   "metadata": {
    "scrolled": true
   },
   "outputs": [
    {
     "name": "stdout",
     "output_type": "stream",
     "text": [
      "\n",
      "Felix Mutai\n",
      "Username: felix\n",
      "Email Address: felixmutai22@gmail.com\n",
      "Age: 28\n",
      "Phone Number: 0701209288\n",
      "\n",
      "\n",
      " Hello felix\n",
      "\n",
      "Rachel Nkirote\n",
      "Username: rachel\n",
      "Email Address: rachelnkirote23@gmail.com\n",
      "Age: 24\n",
      "Phone Number: 0701209288\n",
      "\n",
      "\n",
      " Hello rachel\n"
     ]
    }
   ],
   "source": [
    "#Creating user with a simple profile\n",
    "class User():\n",
    "    def __init__ (self, first_name, last_name, username, email, age, phone_number):\n",
    "    #Initialise the user\n",
    "        self.first_name = first_name\n",
    "        self.last_name = last_name\n",
    "        self.username = username\n",
    "        self.email = email\n",
    "        self.age = age\n",
    "        self.phone_number = phone_number\n",
    "    #describe user method and printing user's information\n",
    "    def describe_user(self):\n",
    "        print(\"\\n\"f\"{self.first_name} {self.last_name}\")        \n",
    "        print(\"Username: \"+ self.username)\n",
    "        print(\"Email Address: \"+ self.email)\n",
    "        print(\"Age: \"+ self.age)\n",
    "        print(\"Phone Number: \"+ self.phone_number)\n",
    "        #print(f\"{self.first_name}, {self.last_name}, {self.username}, {self.email} is my profile summary\")\n",
    "    #Shows personalized greeting\n",
    "    def greet_user(self):\n",
    "        print(f\" Hello {self.username}\")\n",
    "felix = User('Felix', 'Mutai', 'felix', 'felixmutai22@gmail.com', '28', '0701209288')\n",
    "felix.describe_user()\n",
    "print(\"\\n\")\n",
    "felix.greet_user()\n",
    "\n",
    "rachel = User('Rachel', 'Nkirote', 'rachel','rachelnkirote23@gmail.com', '24', '0701209288')\n",
    "rachel.describe_user()\n",
    "print(\"\\n\")\n",
    "rachel.greet_user()\n"
   ]
  },
  {
   "cell_type": "code",
   "execution_count": 136,
   "id": "73f18885",
   "metadata": {},
   "outputs": [],
   "source": [
    "class Animal:\n",
    "    def __init__(self):\n",
    "        self.eyes = 2\n",
    "        self.legs = 2\n",
    "\n",
    "    def walk(self):\n",
    "        if self.legs:\n",
    "            print(f'Walking on my own {self.legs} legs.')\n",
    "        else:\n",
    "            print(\"Can't walk. Maybe swim!\")"
   ]
  },
  {
   "cell_type": "code",
   "execution_count": 140,
   "id": "4ca6920b",
   "metadata": {},
   "outputs": [],
   "source": [
    "class Fish(Animal):    \n",
    "    def __init__(self, eyes, legs):        \n",
    "        super().__init__()\n",
    "        self.legs = 0\n",
    "        \n",
    "          "
   ]
  },
  {
   "cell_type": "code",
   "execution_count": 141,
   "id": "ae2ef381",
   "metadata": {},
   "outputs": [
    {
     "name": "stdout",
     "output_type": "stream",
     "text": [
      "Can't walk. Maybe swim!\n"
     ]
    }
   ],
   "source": [
    "tilapia = Fish(2,0)\n",
    "tilapia.walk()"
   ]
  },
  {
   "cell_type": "code",
   "execution_count": null,
   "id": "701fd163",
   "metadata": {},
   "outputs": [],
   "source": []
  }
 ],
 "metadata": {
  "kernelspec": {
   "display_name": "Python 3 (ipykernel)",
   "language": "python",
   "name": "python3"
  },
  "language_info": {
   "codemirror_mode": {
    "name": "ipython",
    "version": 3
   },
   "file_extension": ".py",
   "mimetype": "text/x-python",
   "name": "python",
   "nbconvert_exporter": "python",
   "pygments_lexer": "ipython3",
   "version": "3.9.12"
  }
 },
 "nbformat": 4,
 "nbformat_minor": 5
}
